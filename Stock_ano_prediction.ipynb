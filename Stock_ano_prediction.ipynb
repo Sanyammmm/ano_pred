{
 "cells": [
  {
   "cell_type": "code",
   "execution_count": null,
   "id": "8e179c40-78f3-42c2-9658-d3a030b3d061",
   "metadata": {},
   "outputs": [],
   "source": [
    "import pandas as pd\n",
    "from sklearn.preprocessing import StandardScaler\n",
    "from sklearn.ensemble import IsolationForest\n",
    "import matplotlib.pyplot as plt\n",
    "import time"
   ]
  },
  {
   "cell_type": "code",
   "execution_count": null,
   "id": "548c2e8c-3d8e-4b9b-8a6f-e460cfdfe6de",
   "metadata": {},
   "outputs": [],
   "source": [
    "csv_file_path = 'C:\\Data_Sets\\Ml_datasets\\predictive_analysis\\Stock_Anomalies\\data_ano.csv'  \n",
    "data = pd.read_csv(csv_file_path, parse_dates=True, index_col='timestamp')  \n",
    "print(data.head())"
   ]
  },
  {
   "cell_type": "code",
   "execution_count": null,
   "id": "e351782a-c08c-4fef-ae18-928b948ea51e",
   "metadata": {},
   "outputs": [],
   "source": [
    "\n",
    "def add_features(df):\n",
    "    df['change_in_price'] = df['close'].pct_change()  \n",
    "    df['change_in_volume'] = df['volume'].pct_change()  \n",
    "    df['moving_avg_30'] = df['close'].rolling(window=30).mean()  \n",
    "    df['volatility'] = df['close'].rolling(window=30).std() \n",
    "    df = df.dropna()\n",
    "    return df\n",
    "\n",
    "data_with_features = add_features(data)\n",
    "print(data_with_features.head())\n"
   ]
  },
  {
   "cell_type": "code",
   "execution_count": null,
   "id": "4f32935f-3324-4fa9-bfa1-55087ed7c516",
   "metadata": {},
   "outputs": [],
   "source": [
    "def preprocess_data(df):\n",
    "    features = ['change_in_price', 'change_in_volume', 'moving_avg_30', 'volatility']\n",
    "    scaler = StandardScaler()\n",
    "    df_scaled = scaler.fit_transform(df[features])\n",
    "    return df_scaled, df\n",
    "X, original_df = preprocess_data(data_with_features)"
   ]
  },
  {
   "cell_type": "code",
   "execution_count": null,
   "id": "e655a087-98ac-499d-8c00-a53a10d71daf",
   "metadata": {},
   "outputs": [],
   "source": [
    "model = IsolationForest(contamination=0.01, random_state=42)\n",
    "model.fit(X)\n",
    "original_df['anomaly'] = model.predict(X)\n",
    "print(original_df[['close', 'anomaly']].tail())\n",
    "anomalies = original_df[original_df['anomaly'] == -1]\n",
    "print(\"Anomalies detected:\\n\", anomalies)\n"
   ]
  },
  {
   "cell_type": "code",
   "execution_count": null,
   "id": "5bce77b4-aca6-45cd-8881-e1e3b329f58e",
   "metadata": {},
   "outputs": [],
   "source": [
    "plt.figure(figsize=(14,7))\n",
    "plt.plot(original_df.index, original_df['close'], label='Stock Price', color='blue')\n",
    "plt.scatter(anomalies.index, anomalies['close'], color='red', label='Anomalies', marker='x')\n",
    "plt.title('Stock Price with Anomalies')\n",
    "plt.xlabel('Date')\n",
    "plt.ylabel('Price')\n",
    "plt.legend()\n",
    "plt.show()\n"
   ]
  },
  {
   "cell_type": "code",
   "execution_count": null,
   "id": "a94d90ff-af7c-406c-948a-e93c9029fde2",
   "metadata": {},
   "outputs": [],
   "source": [
    "for i in range(len(data_with_features)):\n",
    "    current_data = data_with_features.iloc[[i]]\n",
    "    X_new, _ = preprocess_data(current_data)\n",
    "    prediction = model.predict(X_new)\n",
    "    \n",
    "    if prediction == -1:\n",
    "        print(f\"Anomaly detected at {current_data.index[0]}: {current_data['close'].values[0]}\")\n",
    "    \n",
    "    time.sleep(1) \n"
   ]
  }
 ],
 "metadata": {
  "kernelspec": {
   "display_name": "Python 3 (ipykernel)",
   "language": "python",
   "name": "python3"
  },
  "language_info": {
   "codemirror_mode": {
    "name": "ipython",
    "version": 3
   },
   "file_extension": ".py",
   "mimetype": "text/x-python",
   "name": "python",
   "nbconvert_exporter": "python",
   "pygments_lexer": "ipython3",
   "version": "3.11.3"
  }
 },
 "nbformat": 4,
 "nbformat_minor": 5
}
